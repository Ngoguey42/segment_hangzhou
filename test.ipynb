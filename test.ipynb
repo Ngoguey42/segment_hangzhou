{
 "cells": [
  {
   "cell_type": "markdown",
   "id": "selected-shirt",
   "metadata": {},
   "source": [
    "# My first automatic Jupyter Notebook\n",
    "This is an auto-generated notebook."
   ]
  },
  {
   "cell_type": "code",
   "execution_count": 1,
   "id": "trained-stock",
   "metadata": {
    "execution": {
     "iopub.execute_input": "2022-03-07T16:07:58.906208Z",
     "iopub.status.busy": "2022-03-07T16:07:58.904749Z",
     "iopub.status.idle": "2022-03-07T16:07:59.376801Z",
     "shell.execute_reply": "2022-03-07T16:07:59.377369Z"
    }
   },
   "outputs": [
    {
     "name": "stdout",
     "output_type": "stream",
     "text": [
      "Populating the interactive namespace from numpy and matplotlib\n"
     ]
    },
    {
     "data": {
      "image/png": "[encoded data removed]",
      "text/plain": [
       "<Figure size 432x288 with 1 Axes>"
      ]
     },
     "metadata": {
      "needs_background": "light"
     },
     "output_type": "display_data"
    }
   ],
   "source": [
    "%pylab inline\n",
    "hist(normal(size=2000), bins=50);"
   ]
  }
 ],
 "metadata": {
  "kernelspec": {
   "display_name": "Python 3",
   "language": "python",
   "name": "python3"
  },
  "language_info": {
   "codemirror_mode": {
    "name": "ipython",
    "version": 3
   },
   "file_extension": ".py",
   "mimetype": "text/x-python",
   "name": "python",
   "nbconvert_exporter": "python",
   "pygments_lexer": "ipython3",
   "version": "3.7.4"
  }
 },
 "nbformat": 4,
 "nbformat_minor": 5
}

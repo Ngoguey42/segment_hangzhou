{
 "cells": [
  {
   "cell_type": "markdown",
   "id": "compressed-trace",
   "metadata": {},
   "source": [
    "# Hanghzou Irmin Pack File Analysis\n",
    "\n",
    "This document presents statistics computed on a pack file which results from a Tezos bootstrap on the first 2 month of the Hanghzou protocol.\n",
    "\n",
    "This work is splited on several documents. Look for the \"💡\" for insights.\n",
    "\n",
    "The raw data used for this document can be found at `csv/*csv` in the same repository.\n",
    "\n",
    "### Contents of the Pack File\n",
    "\n",
    "This bootstrap was realised using Irmin 3.0 and its new structured keys, using the \"minimal\" indexing strategy, which results in less sharing in the pack file.\n",
    "\n",
    "The first commit of the pack file belongs to block 1,916,930 (2nd of Hangzhou, 2nd of cycle 429, 4 Dec 2021).\n",
    "\n",
    "The last commit annalised belongs to block 2,056,194 (2nd of cycle 445, 23 Jan 2022).\n",
    "\n",
    "### The Tree of the Last Commit\n",
    "In Irmin, a commit points to a root node (i.e. \"/\"), which itself references contents and sub-directories. The root node and all the objects reachable from it constitute the \"tree of a commit\".\n",
    "\n",
    "Each vertex in that tree is called an object. A new commit is based on an old one, it shares all its objects with the old one except the\n",
    "objects in the paths between the root and the new (or modified) contents. Because of this, the objects in a tree are scattered all around the pack file.\n",
    "\n",
    "The stats in this section focus on the tree at the beginning of cycle 445. Many more objects were added during cycle 444 and all the previous cycles, but they were not kept.\n",
    "\n",
    "In practice, the tree of a commit is a DAG. A subtree can appear multiple times, at different paths. The stats showcased here correspond to what's stored on disk. If a subtree appears multiple times in the tree, it is counted only once in the stats.\n",
    "\n",
    "[tree_of_cycle_445.ipynb](./tree_of_cycle_445.ipynb) details the contents of the tree.\n",
    "\n",
    "The notebooks zoom on the heaviest paths of the tree:\n",
    "- `/data/contracts/index`, the largest node in the tree [(url)](./tree_of_cycle_445_contracts-index.ipynb);\n",
    "- `/data/contracts/index/*`, the children of the largest node [(url)](./tree_of_cycle_445_contracts-index-star.ipynb);\n",
    "- `/data/contracts/index/*/manager`, a contents present in almost all contracts [(url)](./tree_of_cycle_445_contracts-index-star-manager.ipynb);\n",
    "- `/data/big_maps/index/*/contents` [(url)](./tree_of_cycle_445_big_maps-index-star-contents.ipynb);\n",
    "- `/data/big_maps/index/*/contents/*` [(url)](./tree_of_cycle_445_big_maps-index-star-contents-star.ipynb);\n",
    "- `/data/big_maps/index/*/contents/*/data` [(url)](./tree_of_cycle_445_big_maps-index-star-contents-star-data.ipynb).\n",
    "\n",
    "\n"
   ]
  }
 ],
 "metadata": {
  "language_info": {
   "codemirror_mode": {
    "name": "ipython",
    "version": 3
   },
   "file_extension": ".py",
   "mimetype": "text/x-python",
   "name": "python",
   "nbconvert_exporter": "python",
   "pygments_lexer": "ipython3",
   "version": "3.9.1"
  }
 },
 "nbformat": 4,
 "nbformat_minor": 5
}

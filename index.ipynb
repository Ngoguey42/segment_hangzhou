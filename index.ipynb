{
 "cells": [
  {
   "cell_type": "markdown",
   "id": "hollywood-article",
   "metadata": {},
   "source": [
    "# Hanghzou Irmin Pack File Analysis\n",
    "\n",
    "This document presents statistics computed on a pack file which results from a Tezos bootstrap on the first 2 month of the Hanghzou protocol.\n",
    "\n",
    "This bootstrap was realised using Irmin 3.0 and its new structured keys, using the \"minimal\" indexing strategy, which results in less sharing in the pack file.\n",
    "\n",
    "The first commit of the pack file is the one belonging to the block 1,916,930 (2nd of Hangzhou, 2nd of cycle 429, 4 Dec 2021).\n",
    "\n",
    "The last commit of the pack file is the one belonging to the block 2,056,194 (2nd of cycle 445, 23 Jan 2022).\n",
    "\n",
    "In Irmin, a commit points to a root node (i.e. \"/\"), which itself reference contents and sub-directories. All these objects constitue the tree of the commit.\n",
    "\n",
    "This work is splited on several documents. Look for the \"💡\" for insights of the data.\n",
    "\n",
    "The tree of the last commit of the pack file is analysed in depth in these notebooks:\n",
    "- [tree_of_cycle_445.ipynb](./tree_of_cycle_445.ipynb) details the contents of the block,\n",
    "- zooms on the heaviest paths of the tree:\n",
    "  - `/data/contracts/index`, the largest node in the tree [(url)](./tree_of_cycle_445_contracts-index.ipynb);\n",
    "  - `/data/contracts/index/*`, the children of the largest node [(url)](./tree_of_cycle_445_contracts-index-star.ipynb);\n",
    "  - `/data/contracts/index/*/manager`, a contents present in almost all contracts [(url)](./tree_of_cycle_445_contracts-index-star-manager.ipynb);\n",
    "  - `/data/big_maps/index/*/contents` [(url)](./tree_of_cycle_445_big_maps-index-star-contents.ipynb);\n",
    "  - `/data/big_maps/index/*/contents/*` [(url)](./tree_of_cycle_445_big_maps-index-star-contents-star.ipynb);\n",
    "  - `/data/big_maps/index/*/contents/*/data` [(url)](./tree_of_cycle_445_big_maps-index-star-contents-star-data.ipynb).\n",
    "\n",
    "\n",
    "\n"
   ]
  }
 ],
 "metadata": {
  "language_info": {
   "codemirror_mode": {
    "name": "ipython",
    "version": 3
   },
   "file_extension": ".py",
   "mimetype": "text/x-python",
   "name": "python",
   "nbconvert_exporter": "python",
   "pygments_lexer": "ipython3",
   "version": "3.9.1"
  }
 },
 "nbformat": 4,
 "nbformat_minor": 5
}

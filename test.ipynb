{
 "cells": [
  {
   "cell_type": "markdown",
   "id": "selected-shirt",
   "metadata": {},
   "source": [
    "# My first automatic Jupyter Notebook\n",
    "This is an auto-generated notebook."
   ]
  },
  {
   "cell_type": "code",
   "execution_count": 1,
   "id": "trained-stock",
   "metadata": {
    "execution": {
     "iopub.execute_input": "2022-03-07T16:07:58.906208Z",
     "iopub.status.busy": "2022-03-07T16:07:58.904749Z",
     "iopub.status.idle": "2022-03-07T16:07:59.376801Z",
     "shell.execute_reply": "2022-03-07T16:07:59.377369Z"
    }
   },
   "outputs": [
    {
     "name": "stdout",
     "output_type": "stream",
     "text": [
      "Populating the interactive namespace from numpy and matplotlib\n"
     ]
    },
    {
     "data": {
      "text/plain": [
       "(array([  1.,   0.,   2.,   5.,   6.,   7.,  11.,   7.,  18.,  18.,  22.,\n",
       "         21.,  37.,  29.,  50.,  44.,  64.,  72.,  85.,  76.,  98., 110.,\n",
       "        101., 118., 102., 103., 107.,  83.,  89.,  84.,  75.,  69.,  59.,\n",
       "         44.,  30.,  40.,  23.,  27.,  11.,  15.,  10.,   8.,   6.,   6.,\n",
       "          3.,   1.,   1.,   0.,   1.,   1.]),\n",
       " array([-3.26156801, -3.12658463, -2.99160125, -2.85661787, -2.72163449,\n",
       "        -2.58665111, -2.45166773, -2.31668435, -2.18170097, -2.04671758,\n",
       "        -1.9117342 , -1.77675082, -1.64176744, -1.50678406, -1.37180068,\n",
       "        -1.2368173 , -1.10183392, -0.96685054, -0.83186716, -0.69688378,\n",
       "        -0.5619004 , -0.42691702, -0.29193364, -0.15695026, -0.02196688,\n",
       "         0.1130165 ,  0.24799988,  0.38298326,  0.51796664,  0.65295002,\n",
       "         0.78793341,  0.92291679,  1.05790017,  1.19288355,  1.32786693,\n",
       "         1.46285031,  1.59783369,  1.73281707,  1.86780045,  2.00278383,\n",
       "         2.13776721,  2.27275059,  2.40773397,  2.54271735,  2.67770073,\n",
       "         2.81268411,  2.94766749,  3.08265087,  3.21763425,  3.35261763,\n",
       "         3.48760102]),\n",
       " <BarContainer object of 50 artists>)"
      ]
     },
     "execution_count": 1,
     "metadata": {},
     "output_type": "execute_result"
    },
    {
     "data": {
      "image/png": "[encoded data removed]",
      "text/plain": [
       "<Figure size 432x288 with 1 Axes>"
      ]
     },
     "metadata": {
      "needs_background": "light"
     },
     "output_type": "display_data"
    }
   ],
   "source": [
    "%pylab inline\n",
    "hist(normal(size=2000), bins=50);"
   ]
  }
 ],
 "metadata": {
  "kernelspec": {
   "display_name": "Python 3",
   "language": "python",
   "name": "python3"
  },
  "language_info": {
   "codemirror_mode": {
    "name": "ipython",
    "version": 3
   },
   "file_extension": ".py",
   "mimetype": "text/x-python",
   "name": "python",
   "nbconvert_exporter": "python",
   "pygments_lexer": "ipython3",
   "version": "3.9.1"
  }
 },
 "nbformat": 4,
 "nbformat_minor": 5
}
